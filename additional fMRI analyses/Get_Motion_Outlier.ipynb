{
 "cells": [
  {
   "cell_type": "code",
   "execution_count": 2,
   "metadata": {},
   "outputs": [],
   "source": [
    "import pandas as pd\n",
    "import numpy as np\n",
    "\n",
    "datadir='/media/tw260/Samsung_T5/fMRI/decodCC.01_BIDS/'"
   ]
  },
  {
   "cell_type": "code",
   "execution_count": 5,
   "metadata": {
    "tags": []
   },
   "outputs": [
    {
     "output_type": "stream",
     "name": "stdout",
     "text": "[[0.101145  0.040915  0.404958  0.231544 ]\n [0.0967398 0.0704533 0.149128  0.284702 ]\n [0.302295  2.07502   1.03242   4.23316  ]\n [1.31503   0.738871  0.927852  0.707425 ]\n [0.142724  3.36996   1.08788   0.769398 ]\n [0.362188  0.522198  1.69708   0.487842 ]\n [0.166232  0.124743  0.227052  0.501749 ]\n [0.168287  0.167958  1.39026   0.745588 ]\n [0.318949  0.352965  0.62948   0.445358 ]\n [0.0624594 0.493683  0.22658   1.07252  ]\n [0.190749  0.169534  0.34948   0.112239 ]\n [0.207413  0.0639991 0.0507918 0.123438 ]\n [0.193977  0.833465  3.14201   0.624076 ]\n [0.367115  0.348354  0.462459  0.400422 ]\n [0.0782037 0.663078  0.272866  3.33307  ]\n [0.0591472 0.0640888 0.217439  0.183093 ]\n [3.13579   4.16132   0.507527  0.506014 ]\n [0.105199  0.0899816 0.644018  0.155155 ]\n [0.196548  0.314894  0.697287  0.46906  ]\n [2.63555   1.52677   0.690412  1.42583  ]\n [0.767468  0.286356  0.158868  0.200838 ]\n [0.777715  0.328244  0.105145  0.712142 ]\n [0.778964  0.911263  0.612245  0.924251 ]\n [0.375431  0.62445   0.979699  0.601045 ]\n [0.042755  0.0564717 0.045164  0.179544 ]\n [2.04758   1.26057   0.357954  0.0790544]\n [0.125618  0.241556  4.03362   0.427903 ]\n [0.051281  0.354994  0.547168  0.33452  ]]\n(array([], dtype=int64), array([], dtype=int64))\n"
    }
   ],
   "source": [
    "## Stroop Task ##\n",
    "\n",
    "#list the subjects you want to run\n",
    "subject_list = ['03','05','06','07','08','09','10','12','13','15','16','17','18','19','20','21','22','23','24','25','26','27','28','29','30','31','34','36','37','39','40','41']\n",
    "\n",
    "sub_max = []\n",
    "for sub_i in range(len(subject_list)):\n",
    "    # current subject\n",
    "    cur_sub = subject_list[sub_i]\n",
    "\n",
    "    #I have 4 runs per person, so this iterates through each run\n",
    "    run_max = []\n",
    "    for run_i in range(0,4):\n",
    "        #find the source epi\n",
    "        cur_task = \"stroop\"\n",
    "        #this pulls up the confound file from fmriprep\n",
    "        confounds = pd.read_csv(os.path.join(datadir, \"derivatives\", \"fmriprep\", \n",
    "                \"sub-%s\"%cur_sub, \"func\", \n",
    "                \"sub-%s_task-%s_run-%s_desc-confounds_regressors.tsv\"%(cur_sub, cur_task, run_i+1)),\n",
    "                sep=\"\\t\", na_values=\"n/a\")\n",
    "\n",
    "        all_motion = list(confounds.trans_x) + list(confounds.trans_y) + list(confounds.trans_z) + list(confounds.rot_x) + list(confounds.rot_y) + list(confounds.rot_z)\n",
    "        run_max.append(max(all_motion))\n",
    "        \n",
    "    sub_max.append(run_max)\n",
    "all_max = np.array(sub_max)\n",
    "\n",
    "print(all_max)\n",
    "print(np.nonzero(all_max>5))\n"
   ]
  },
  {
   "cell_type": "code",
   "execution_count": 6,
   "metadata": {
    "tags": []
   },
   "outputs": [
    {
     "output_type": "stream",
     "name": "stdout",
     "text": "[[0.865408  4.44653  ]\n [0.348339  0.161035 ]\n [4.37879   1.90264  ]\n [0.878438  1.34162  ]\n [0.118445  2.07875  ]\n [0.16753   2.90617  ]\n [0.473548  0.427483 ]\n [0.477728  0.681195 ]\n [0.214739  2.54552  ]\n [0.500359  0.121984 ]\n [0.561523  0.204714 ]\n [0.454008  0.0715457]\n [0.484047  0.495002 ]\n [0.324202  0.242757 ]\n [1.85005   7.02162  ]\n [0.98065   2.04531  ]\n [0.0643196 1.7657   ]\n [0.303788  0.390141 ]\n [0.51824   0.562045 ]\n [2.12788   1.77079  ]\n [0.519058  0.247863 ]\n [0.229582  0.159189 ]\n [0.784501  0.542511 ]\n [0.407208  1.02807  ]\n [0.248764  0.108612 ]\n [0.504434  0.541728 ]\n [0.0506627 0.290411 ]\n [0.315682  0.583859 ]]\n(array([14]), array([1]))\n"
    }
   ],
   "source": [
    "## Memory Task ##\n",
    "\n",
    "#list the subjects you want to run\n",
    "subject_list = ['03','05','06','07','08','09','10','12','13','15','16','17','18','19','20','21','22','23','24','25','26','27','28','29','30','31','34','36','37','39','40','41']\n",
    "\n",
    "sub_max = []\n",
    "for sub_i in range(len(subject_list)):\n",
    "    # current subject\n",
    "    cur_sub = subject_list[sub_i]\n",
    "\n",
    "    #I have 2 runs per person, so this iterates through each run\n",
    "    run_max = []\n",
    "    for run_i in range(0,2):\n",
    "        #find the source epi\n",
    "        cur_task = \"mem\"\n",
    "        #this pulls up the confound file from fmriprep\n",
    "        confounds = pd.read_csv(os.path.join(datadir, \"derivatives\", \"fmriprep\", \n",
    "                \"sub-%s\"%cur_sub, \"func\", \n",
    "                \"sub-%s_task-%s_run-%s_desc-confounds_regressors.tsv\"%(cur_sub, cur_task, run_i+1)),\n",
    "                sep=\"\\t\", na_values=\"n/a\")\n",
    "\n",
    "        all_motion = list(confounds.trans_x) + list(confounds.trans_y) + list(confounds.trans_z) + list(confounds.rot_x) + list(confounds.rot_y) + list(confounds.rot_z)\n",
    "        run_max.append(max(all_motion))\n",
    "        \n",
    "    sub_max.append(run_max)\n",
    "all_max = np.array(sub_max)\n",
    "\n",
    "print(all_max)\n",
    "print(np.nonzero(all_max>5))\n"
   ]
  }
 ],
 "metadata": {
  "language_info": {
   "codemirror_mode": {
    "name": "ipython",
    "version": 3
   },
   "file_extension": ".py",
   "mimetype": "text/x-python",
   "name": "python",
   "nbconvert_exporter": "python",
   "pygments_lexer": "ipython3",
   "version": "2.7.17-final"
  },
  "orig_nbformat": 2,
  "kernelspec": {
   "name": "python271764bit0c0b3b54b9894f2b8ebfb532774bfe2e",
   "display_name": "Python 2.7.17 64-bit"
  }
 },
 "nbformat": 4,
 "nbformat_minor": 2
}